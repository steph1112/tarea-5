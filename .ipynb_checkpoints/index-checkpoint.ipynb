{
 "cells": [
  {
   "cell_type": "markdown",
   "id": "fbd5c990",
   "metadata": {},
   "source": [
    "## Exercise: The diet problem"
   ]
  },
  {
   "cell_type": "code",
   "execution_count": 1,
   "id": "2fb77daf",
   "metadata": {},
   "outputs": [],
   "source": [
    "#pip install  pulp"
   ]
  },
  {
   "cell_type": "code",
   "execution_count": 2,
   "id": "2a0b7f38",
   "metadata": {},
   "outputs": [],
   "source": [
    "import pulp as pp"
   ]
  },
  {
   "cell_type": "markdown",
   "id": "abdda07f",
   "metadata": {},
   "source": [
    "EJERCICIO 1"
   ]
  },
  {
   "cell_type": "markdown",
   "id": "b8d5306c",
   "metadata": {},
   "source": [
    "1. **Creamos las variables**"
   ]
  },
  {
   "cell_type": "code",
   "execution_count": 3,
   "id": "0cd301de",
   "metadata": {},
   "outputs": [],
   "source": [
    "model = pp.LpProblem(name='Cantidad-suplemento', # just the name\n",
    "                     sense=pp.LpMinimize) # type of problem"
   ]
  },
  {
   "cell_type": "code",
   "execution_count": 4,
   "id": "21dfabb4",
   "metadata": {},
   "outputs": [],
   "source": [
    "VV = pp.LpVariable(name=\"VegaVita\",  # just the name\n",
    "                    lowBound=0,  # ensure non-negativity\n",
    "                    cat='Continuous') # here: you accept decimal values\n",
    "\n",
    "HH = pp.LpVariable(name=\"HappyHealth\",\n",
    "                 lowBound=0,\n",
    "                 cat='Continuous')\n",
    "\n"
   ]
  },
  {
   "cell_type": "code",
   "execution_count": 5,
   "id": "7b445b54",
   "metadata": {},
   "outputs": [],
   "source": [
    "VV_precio=0.2\n",
    "HH_precio=0.3\n",
    "obj_func = VV_precio*VV + HH_precio*HH"
   ]
  },
  {
   "cell_type": "markdown",
   "id": "8464b758",
   "metadata": {},
   "source": [
    "2. La cantidad de suplementos"
   ]
  },
  {
   "cell_type": "code",
   "execution_count": 12,
   "id": "94cf6d50",
   "metadata": {},
   "outputs": [],
   "source": [
    "Nutrientes = ['Vitamina A', 'Calcio', 'Hierro', 'Niacina', 'Magnesio']\n",
    "VegaV = [20, 500, 9, 2, 60]\n",
    "HappyH = [30, 250, 2, 10, 90]\n",
    "Necesidad_paciente = [60, 1000, 18, 20, 360]\n",
    "\n",
    "Tabla = pd.DataFrame({\n",
    "    'Nutrientes': Nutrientes,\n",
    "    'VV (mg)': VegaV,\n",
    "    'HH (mg)': HappyH,\n",
    "    'Necesidad Paciente (mg)': Necesidad_paciente\n",
    "})"
   ]
  },
  {
   "cell_type": "code",
   "execution_count": 13,
   "id": "7e22b89e",
   "metadata": {},
   "outputs": [
    {
     "data": {
      "text/html": [
       "<div>\n",
       "<style scoped>\n",
       "    .dataframe tbody tr th:only-of-type {\n",
       "        vertical-align: middle;\n",
       "    }\n",
       "\n",
       "    .dataframe tbody tr th {\n",
       "        vertical-align: top;\n",
       "    }\n",
       "\n",
       "    .dataframe thead th {\n",
       "        text-align: right;\n",
       "    }\n",
       "</style>\n",
       "<table border=\"1\" class=\"dataframe\">\n",
       "  <thead>\n",
       "    <tr style=\"text-align: right;\">\n",
       "      <th></th>\n",
       "      <th>Nutrientes</th>\n",
       "      <th>VV (mg)</th>\n",
       "      <th>HH (mg)</th>\n",
       "      <th>Necesidad Paciente (mg)</th>\n",
       "    </tr>\n",
       "  </thead>\n",
       "  <tbody>\n",
       "    <tr>\n",
       "      <th>0</th>\n",
       "      <td>Vitamina A</td>\n",
       "      <td>20</td>\n",
       "      <td>30</td>\n",
       "      <td>60</td>\n",
       "    </tr>\n",
       "    <tr>\n",
       "      <th>1</th>\n",
       "      <td>Calcio</td>\n",
       "      <td>500</td>\n",
       "      <td>250</td>\n",
       "      <td>1000</td>\n",
       "    </tr>\n",
       "    <tr>\n",
       "      <th>2</th>\n",
       "      <td>Hierro</td>\n",
       "      <td>9</td>\n",
       "      <td>2</td>\n",
       "      <td>18</td>\n",
       "    </tr>\n",
       "    <tr>\n",
       "      <th>3</th>\n",
       "      <td>Niacina</td>\n",
       "      <td>2</td>\n",
       "      <td>10</td>\n",
       "      <td>20</td>\n",
       "    </tr>\n",
       "    <tr>\n",
       "      <th>4</th>\n",
       "      <td>Magnesio</td>\n",
       "      <td>60</td>\n",
       "      <td>90</td>\n",
       "      <td>360</td>\n",
       "    </tr>\n",
       "  </tbody>\n",
       "</table>\n",
       "</div>"
      ],
      "text/plain": [
       "   Nutrientes  VV (mg)  HH (mg)  Necesidad Paciente (mg)\n",
       "0  Vitamina A       20       30                       60\n",
       "1      Calcio      500      250                     1000\n",
       "2      Hierro        9        2                       18\n",
       "3     Niacina        2       10                       20\n",
       "4    Magnesio       60       90                      360"
      ]
     },
     "execution_count": 13,
     "metadata": {},
     "output_type": "execute_result"
    }
   ],
   "source": [
    "Tabla"
   ]
  },
  {
   "cell_type": "markdown",
   "id": "d1dcd205",
   "metadata": {},
   "source": [
    "Creación del modelo de optimización "
   ]
  },
  {
   "cell_type": "code",
   "execution_count": 6,
   "id": "f336a3d2",
   "metadata": {},
   "outputs": [],
   "source": [
    "#Las condicionantes \n",
    "\n",
    "#C2= pp.LpConstraint(name='Oil Constraint',\n",
    " #                   e= 1*Oil, rhs=3000000,\n",
    "  #                  sense=pp.LpConstraintGE) # 'rule' >= 3000000 (LpConstraintGE)\n",
    "\n",
    "C1=pp.LpConstraint(name=\"VitaminaC\", \n",
    "                    e=20 * VV + 30 * HH, rhs=60, \n",
    "                    sense=pp.LpConstraintGE) #>= 60\n",
    "            \n",
    "C2=pp.LpConstraint(name=\"Calcio\", \n",
    "                    e=500*VV + 250*HH,rhs=1000, \n",
    "                    sense=pp.LpConstraintGE) #>= 1000\n",
    "\n",
    "C3=pp.LpConstraint(name=\"Hierro\", \n",
    "                    e=9*VV + 2*HH,rhs=18, \n",
    "                    sense=pp.LpConstraintGE, ) #>= 18\n",
    "\n",
    "C4=pp.LpConstraint(name=\"Niacina\", \n",
    "                    e=2*VV + 10*HH,rhs=20, \n",
    "                    sense=pp.LpConstraintGE, ) #>= 20\n",
    "\n",
    "C5=pp.LpConstraint(name=\"Magnesio\", \n",
    "                    e=60*VV + 90*HH,rhs=360, \n",
    "                    sense=pp.LpConstraintGE, ) #>= 360  \n",
    "\n",
    "    # \"pp.LpConstraintGE\" es \"Greater Than or Equal\" o \"mayor o igual que\"\n",
    "    #Otras opciones: \"pp.LpConstraintEQ\" para \"Equal\" o \"igual a\"\n",
    "    #O \"pp.LpConstraintLE\" para \"Less Than or Equal\" o menor o igual que"
   ]
  },
  {
   "cell_type": "code",
   "execution_count": null,
   "id": "489fcca9",
   "metadata": {},
   "outputs": [],
   "source": []
  },
  {
   "cell_type": "code",
   "execution_count": 7,
   "id": "8dc60361",
   "metadata": {},
   "outputs": [],
   "source": [
    "#En primer lugar, se crea el modelo y se le agrega la función a ser optimizada. A continuación, se agregan las condicionantes\n",
    "\n",
    "\n",
    "#agregamos cada condicionante\n",
    "model += obj_func #agramos el objeto función\n",
    "model += C1\n",
    "model += C2\n",
    "model += C3\n",
    "model += C4\n",
    "model += C5"
   ]
  },
  {
   "cell_type": "code",
   "execution_count": 8,
   "id": "de5b025c",
   "metadata": {},
   "outputs": [],
   "source": [
    "#solver_list = pp.listSolvers()\n",
    "#print(solver_list)"
   ]
  },
  {
   "cell_type": "code",
   "execution_count": 9,
   "id": "5005ec83",
   "metadata": {},
   "outputs": [],
   "source": [
    "solverToUse = pp.COIN_CMD(msg=False)\n",
    "model.solve();\n",
    "\n",
    "#model.solve();"
   ]
  },
  {
   "cell_type": "code",
   "execution_count": 10,
   "id": "119cdff1",
   "metadata": {},
   "outputs": [
    {
     "data": {
      "text/plain": [
       "{'Model Status': 'Optimal',\n",
       " 'Optimal Solution': 1.2,\n",
       " 'HappyHealth': 3.1304348,\n",
       " 'VegaVita': 1.3043478}"
      ]
     },
     "execution_count": 10,
     "metadata": {},
     "output_type": "execute_result"
    }
   ],
   "source": [
    "import pandas as pd\n",
    "\n",
    "Results={\"Model Status\":pp.LpStatus[model.status]}\n",
    "Results.update({\"Optimal Solution\":pp.value(model.objective)})\n",
    "Results.update({v.name: v.varValue for v in model.variables()})\n",
    "Results"
   ]
  },
  {
   "cell_type": "code",
   "execution_count": 11,
   "id": "ab8d8507",
   "metadata": {
    "scrolled": true
   },
   "outputs": [
    {
     "data": {
      "text/html": [
       "<style type=\"text/css\">\n",
       "</style>\n",
       "<table id=\"T_96408\">\n",
       "  <thead>\n",
       "    <tr>\n",
       "      <th class=\"blank level0\" >&nbsp;</th>\n",
       "      <th id=\"T_96408_level0_col0\" class=\"col_heading level0 col0\" >Optimal Solution</th>\n",
       "      <th id=\"T_96408_level0_col1\" class=\"col_heading level0 col1\" >HappyHealth</th>\n",
       "      <th id=\"T_96408_level0_col2\" class=\"col_heading level0 col2\" >VegaVita</th>\n",
       "    </tr>\n",
       "    <tr>\n",
       "      <th class=\"index_name level0\" >Model Status</th>\n",
       "      <th class=\"blank col0\" >&nbsp;</th>\n",
       "      <th class=\"blank col1\" >&nbsp;</th>\n",
       "      <th class=\"blank col2\" >&nbsp;</th>\n",
       "    </tr>\n",
       "  </thead>\n",
       "  <tbody>\n",
       "    <tr>\n",
       "      <th id=\"T_96408_level0_row0\" class=\"row_heading level0 row0\" >Optimal</th>\n",
       "      <td id=\"T_96408_row0_col0\" class=\"data row0 col0\" >1.2</td>\n",
       "      <td id=\"T_96408_row0_col1\" class=\"data row0 col1\" >3.1304348</td>\n",
       "      <td id=\"T_96408_row0_col2\" class=\"data row0 col2\" >1.3043478</td>\n",
       "    </tr>\n",
       "  </tbody>\n",
       "</table>\n"
      ],
      "text/plain": [
       "<pandas.io.formats.style.Styler at 0x1ea5a31a7d0>"
      ]
     },
     "execution_count": 11,
     "metadata": {},
     "output_type": "execute_result"
    }
   ],
   "source": [
    "pd.DataFrame.from_dict(Results,orient='index').T.set_index('Model Status').style.format('{:,}')"
   ]
  },
  {
   "cell_type": "markdown",
   "id": "1e56a0e6",
   "metadata": {},
   "source": [
    "## Exercise: Choosing a country for a Master Program\n",
    "\n",
    "- Join 3 or 4 people from this course (or other friends if needed).\n",
    "- If you have the criteria: cost of living, language difficulty, possibilities to get a job in that country\n",
    "- If you have the alternatives: Brazil, Spain, USA, England, France\n",
    "- Create an AHP model and get the ranking.\n",
    "- You can follow this example. If you have a better idea, you can use it instead."
   ]
  },
  {
   "cell_type": "code",
   "execution_count": 1,
   "id": "b0e60d74",
   "metadata": {},
   "outputs": [],
   "source": [
    "from ahp.ahp import AHP"
   ]
  },
  {
   "cell_type": "code",
   "execution_count": 4,
   "id": "546247f1",
   "metadata": {},
   "outputs": [],
   "source": [
    "import pandas as pd\n",
    "\n",
    "pairwise_Costliving=pd.read_excel(\"m_tables.xlsx\",sheet_name='Costliving', index_col=0)\n",
    "pairwise_Language=pd.read_excel(\"m_tables.xlsx\",sheet_name='Language', index_col=0)\n",
    "pairwise_Job=pd.read_excel(\"m_tables.xlsx\",sheet_name='Job', index_col=0)\n",
    "pairwise_criteria=pd.read_excel(\"m_tables.xlsx\",sheet_name='Criteria', index_col=0)"
   ]
  },
  {
   "cell_type": "code",
   "execution_count": 5,
   "id": "607a21f7",
   "metadata": {},
   "outputs": [
    {
     "data": {
      "text/html": [
       "<div>\n",
       "<style scoped>\n",
       "    .dataframe tbody tr th:only-of-type {\n",
       "        vertical-align: middle;\n",
       "    }\n",
       "\n",
       "    .dataframe tbody tr th {\n",
       "        vertical-align: top;\n",
       "    }\n",
       "\n",
       "    .dataframe thead th {\n",
       "        text-align: right;\n",
       "    }\n",
       "</style>\n",
       "<table border=\"1\" class=\"dataframe\">\n",
       "  <thead>\n",
       "    <tr style=\"text-align: right;\">\n",
       "      <th></th>\n",
       "      <th>Cost of living</th>\n",
       "      <th>Language difficulty</th>\n",
       "      <th>Possibilities to get a job</th>\n",
       "    </tr>\n",
       "  </thead>\n",
       "  <tbody>\n",
       "    <tr>\n",
       "      <th>Cost of living</th>\n",
       "      <td>1.000000</td>\n",
       "      <td>3</td>\n",
       "      <td>3.000000</td>\n",
       "    </tr>\n",
       "    <tr>\n",
       "      <th>Language difficulty</th>\n",
       "      <td>0.333333</td>\n",
       "      <td>1</td>\n",
       "      <td>0.333333</td>\n",
       "    </tr>\n",
       "    <tr>\n",
       "      <th>Possibilities to get a job</th>\n",
       "      <td>0.333333</td>\n",
       "      <td>3</td>\n",
       "      <td>1.000000</td>\n",
       "    </tr>\n",
       "  </tbody>\n",
       "</table>\n",
       "</div>"
      ],
      "text/plain": [
       "                            Cost of living  Language difficulty  \\\n",
       "Cost of living                    1.000000                    3   \n",
       "Language difficulty               0.333333                    1   \n",
       "Possibilities to get a job        0.333333                    3   \n",
       "\n",
       "                            Possibilities to get a job  \n",
       "Cost of living                                3.000000  \n",
       "Language difficulty                           0.333333  \n",
       "Possibilities to get a job                    1.000000  "
      ]
     },
     "execution_count": 5,
     "metadata": {},
     "output_type": "execute_result"
    }
   ],
   "source": [
    "pairwise_criteria"
   ]
  },
  {
   "cell_type": "code",
   "execution_count": 6,
   "id": "4500bf3e",
   "metadata": {},
   "outputs": [],
   "source": [
    "# follow the same order as the criteria\n",
    "data = [pairwise_Costliving.values.tolist(),\n",
    "        pairwise_Language.values.tolist(),\n",
    "        pairwise_Job.values.tolist(),\n",
    "        pairwise_criteria.values.tolist()]"
   ]
  },
  {
   "cell_type": "code",
   "execution_count": 7,
   "id": "579ff3e4",
   "metadata": {},
   "outputs": [],
   "source": [
    "#Time to fit the AHP model:\n",
    "\n",
    "ahp = AHP()\n",
    "ahp.fit(data)"
   ]
  },
  {
   "cell_type": "code",
   "execution_count": 8,
   "id": "e2202642",
   "metadata": {},
   "outputs": [
    {
     "data": {
      "text/html": [
       "<div>\n",
       "<style scoped>\n",
       "    .dataframe tbody tr th:only-of-type {\n",
       "        vertical-align: middle;\n",
       "    }\n",
       "\n",
       "    .dataframe tbody tr th {\n",
       "        vertical-align: top;\n",
       "    }\n",
       "\n",
       "    .dataframe thead th {\n",
       "        text-align: right;\n",
       "    }\n",
       "</style>\n",
       "<table border=\"1\" class=\"dataframe\">\n",
       "  <thead>\n",
       "    <tr style=\"text-align: right;\">\n",
       "      <th></th>\n",
       "      <th>Score</th>\n",
       "      <th>Ranking</th>\n",
       "    </tr>\n",
       "  </thead>\n",
       "  <tbody>\n",
       "    <tr>\n",
       "      <th>Brazil</th>\n",
       "      <td>0.060735</td>\n",
       "      <td>5.0</td>\n",
       "    </tr>\n",
       "    <tr>\n",
       "      <th>Spain</th>\n",
       "      <td>0.134003</td>\n",
       "      <td>4.0</td>\n",
       "    </tr>\n",
       "    <tr>\n",
       "      <th>USA</th>\n",
       "      <td>0.217910</td>\n",
       "      <td>2.0</td>\n",
       "    </tr>\n",
       "    <tr>\n",
       "      <th>England</th>\n",
       "      <td>0.377809</td>\n",
       "      <td>1.0</td>\n",
       "    </tr>\n",
       "    <tr>\n",
       "      <th>France</th>\n",
       "      <td>0.209543</td>\n",
       "      <td>3.0</td>\n",
       "    </tr>\n",
       "  </tbody>\n",
       "</table>\n",
       "</div>"
      ],
      "text/plain": [
       "            Score  Ranking\n",
       "Brazil   0.060735      5.0\n",
       "Spain    0.134003      4.0\n",
       "USA      0.217910      2.0\n",
       "England  0.377809      1.0\n",
       "France   0.209543      3.0"
      ]
     },
     "execution_count": 8,
     "metadata": {},
     "output_type": "execute_result"
    }
   ],
   "source": [
    "Solution=pd.DataFrame(index=pairwise_Costliving.index)\n",
    "Solution['Score']=ahp.classificate()\n",
    "Solution['Ranking']=Solution.Score.rank(ascending=False)\n",
    "Solution"
   ]
  },
  {
   "cell_type": "code",
   "execution_count": null,
   "id": "26d65fd7",
   "metadata": {},
   "outputs": [],
   "source": []
  }
 ],
 "metadata": {
  "kernelspec": {
   "display_name": "Python 3 (ipykernel)",
   "language": "python",
   "name": "python3"
  },
  "language_info": {
   "codemirror_mode": {
    "name": "ipython",
    "version": 3
   },
   "file_extension": ".py",
   "mimetype": "text/x-python",
   "name": "python",
   "nbconvert_exporter": "python",
   "pygments_lexer": "ipython3",
   "version": "3.11.3"
  }
 },
 "nbformat": 4,
 "nbformat_minor": 5
}

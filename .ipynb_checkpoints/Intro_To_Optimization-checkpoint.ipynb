{
  "cells": [
    {
      "cell_type": "markdown",
      "id": "e94c1246",
      "metadata": {
        "id": "e94c1246"
      },
      "source": [
        "<img src=\"https://i.imgur.com/6U6q5jQ.png\"/>\n",
        "\n",
        "_____\n",
        "<a id='home'></a>\n",
        "\n",
        "<a target=\"_blank\" href=\"https://colab.research.google.com/github/SocialAnalytics-StrategicIntelligence/introOptimization/blob/main/Intro_To_Optimization.ipynb\">\n",
        "  <img src=\"https://colab.research.google.com/assets/colab-badge.svg\" alt=\"Open In Colab\"/>\n",
        "</a>\n",
        "\n",
        "\n",
        "# Introduction to Optimization for Decision Making\n"
      ]
    },
    {
      "cell_type": "code",
      "execution_count": null,
      "id": "4e38af10",
      "metadata": {
        "scrolled": true,
        "id": "4e38af10"
      },
      "outputs": [],
      "source": [
        "%%html\n",
        "<iframe src=\"https://docs.google.com/presentation/d/e/2PACX-1vQHq0p2eTmxRWJjDmo1mUmdarYgIrEew4ieiVbIGQy-D_CyBw5rbbRUlRxwLKKaVQpRV9Hs8MGnz0X2/embed?start=false&loop=false&delayms=3000\" frameborder=\"1\" width=\"960\" height=\"569\" allowfullscreen=\"true\" mozallowfullscreen=\"true\" webkitallowfullscreen=\"true\"></iframe>"
      ]
    },
    {
      "cell_type": "markdown",
      "id": "869a5ade-2e6f-4ccd-8fd6-b4f276cff22f",
      "metadata": {
        "id": "869a5ade-2e6f-4ccd-8fd6-b4f276cff22f"
      },
      "source": [
        "# Part 1: Maximization/Minimization"
      ]
    },
    {
      "cell_type": "markdown",
      "id": "1f02e23b",
      "metadata": {
        "id": "1f02e23b"
      },
      "source": [
        "Please, go to your _environment_ in Anacoda Navigator to install **glpk** and **pulp**  before runing the codes below.\n",
        "Then, call the library:"
      ]
    },
    {
      "cell_type": "code",
      "execution_count": null,
      "id": "2d2e3d99-7100-4941-aad8-57b178798e94",
      "metadata": {
        "id": "2d2e3d99-7100-4941-aad8-57b178798e94"
      },
      "outputs": [],
      "source": [
        "# pip show glpk pulp\n",
        "# pip install glpk pulp"
      ]
    },
    {
      "cell_type": "code",
      "execution_count": null,
      "id": "a105dc9b-d105-49d3-8093-96d03eca9530",
      "metadata": {
        "id": "a105dc9b-d105-49d3-8093-96d03eca9530"
      },
      "outputs": [],
      "source": [
        "import pulp as pp"
      ]
    },
    {
      "cell_type": "markdown",
      "id": "dd461c8a-8a20-4a93-aa9e-2b46c1deaf52",
      "metadata": {
        "id": "dd461c8a-8a20-4a93-aa9e-2b46c1deaf52"
      },
      "source": [
        "1. **Initialize the MODEL**: just write the name and declare if it is maximization or minimization problem type."
      ]
    },
    {
      "cell_type": "code",
      "execution_count": null,
      "id": "4436e0c7",
      "metadata": {
        "id": "4436e0c7"
      },
      "outputs": [],
      "source": [
        "model = pp.LpProblem(name='refinery-problem', # just the name\n",
        "                     sense=pp.LpMaximize) # type of problem"
      ]
    },
    {
      "cell_type": "markdown",
      "id": "c001fd3a-190b-45d8-9fa3-c3e21578fa03",
      "metadata": {
        "id": "c001fd3a-190b-45d8-9fa3-c3e21578fa03"
      },
      "source": [
        "2. **Declare the VARIABLES**: The refinery model consists of these _variables_:"
      ]
    },
    {
      "cell_type": "code",
      "execution_count": null,
      "id": "8533e838-9e02-4ca8-85ef-de557cb1dd7c",
      "metadata": {
        "id": "8533e838-9e02-4ca8-85ef-de557cb1dd7c"
      },
      "outputs": [],
      "source": [
        "# how much gas?\n",
        "Gas = pp.LpVariable(name=\"Gas\",  # just the name\n",
        "                    lowBound=0,  # ensure non-negativity\n",
        "                    cat='Continuous') # here: you accept decimal values\n",
        "\n",
        "# how much oil?\n",
        "Oil = pp.LpVariable(name=\"Oil\",\n",
        "                 lowBound=0,\n",
        "                 cat='Continuous')"
      ]
    },
    {
      "cell_type": "markdown",
      "id": "611438aa-54e1-4cdd-aa77-44702feb498a",
      "metadata": {
        "id": "611438aa-54e1-4cdd-aa77-44702feb498a"
      },
      "source": [
        "3. **Create function to OPTIMIZE**: The function is just the linear combination of the variables and their _given coefficients__:"
      ]
    },
    {
      "cell_type": "code",
      "execution_count": null,
      "id": "e676c256-353d-4fbd-a206-6914f29ff8ba",
      "metadata": {
        "id": "e676c256-353d-4fbd-a206-6914f29ff8ba"
      },
      "outputs": [],
      "source": [
        "GasCoeff=1.9\n",
        "OilCoeff=1.5\n",
        "obj_func = GasCoeff*Gas + OilCoeff*Oil"
      ]
    },
    {
      "cell_type": "markdown",
      "id": "65a5c48f-d28c-489a-bcd4-f97be76b57c7",
      "metadata": {
        "id": "65a5c48f-d28c-489a-bcd4-f97be76b57c7"
      },
      "source": [
        "4. **Represent the constraints**: These are the rules the model (set of variables) must obey:"
      ]
    },
    {
      "cell_type": "code",
      "execution_count": null,
      "id": "c24146f7-5db5-4606-90fd-9bc010685754",
      "metadata": {
        "id": "c24146f7-5db5-4606-90fd-9bc010685754"
      },
      "outputs": [],
      "source": [
        "# SUBJECT TO:\n",
        "C1= pp.LpConstraint(name='Gas Constraint',   # just the name\n",
        "                    e= 1*Gas - 2*Oil, rhs=0, # linear combination of constraint and rhs\n",
        "                    sense=pp.LpConstraintGE) # 'rule' >= 0 (LpConstraintGE)\n",
        "C2= pp.LpConstraint(name='Oil Constraint',\n",
        "                    e= 1*Oil, rhs=3000000,\n",
        "                    sense=pp.LpConstraintGE) # 'rule' >= 3000000 (LpConstraintGE)\n",
        "C3= pp.LpConstraint(name='Demand Constraint',\n",
        "                    e= 1*Gas, rhs=6400000,\n",
        "                    sense=pp.LpConstraintLE, )# 'rule' <= 6400000 (LpConstraintLE)"
      ]
    },
    {
      "cell_type": "markdown",
      "id": "10465ba5-03d5-41d0-9e65-b4c13d8a8728",
      "metadata": {
        "id": "10465ba5-03d5-41d0-9e65-b4c13d8a8728"
      },
      "source": [
        "5. **Build MODEL**: Here you add (i) the objective function, and (ii) all the constraints:"
      ]
    },
    {
      "cell_type": "code",
      "execution_count": null,
      "id": "44dd2783-49c1-44fd-952b-47743c9d4686",
      "metadata": {
        "id": "44dd2783-49c1-44fd-952b-47743c9d4686"
      },
      "outputs": [],
      "source": [
        "model += obj_func\n",
        "model += C1\n",
        "model += C2\n",
        "model += C3\n"
      ]
    },
    {
      "cell_type": "markdown",
      "id": "2a332886-694b-40d8-98d3-e27066b28e96",
      "metadata": {
        "id": "2a332886-694b-40d8-98d3-e27066b28e96"
      },
      "source": [
        "6. **Solve the MODEL**: Notice we are not using the _default solver_, we are explicitly usig **COIN_CMD**:"
      ]
    },
    {
      "cell_type": "code",
      "execution_count": null,
      "id": "531d75fa-6e19-4ef4-9170-31aef8b88fa0",
      "metadata": {
        "id": "531d75fa-6e19-4ef4-9170-31aef8b88fa0"
      },
      "outputs": [],
      "source": [
        "solver_list = pp.listSolvers()\n",
        "print(solver_list)"
      ]
    },
    {
      "cell_type": "code",
      "execution_count": null,
      "id": "636442d1-a48c-4a3a-a84d-9f2312f3d473",
      "metadata": {
        "id": "636442d1-a48c-4a3a-a84d-9f2312f3d473"
      },
      "outputs": [],
      "source": [
        "solverToUse = pp.COIN_CMD(msg=False)\n",
        "model.solve(solver=solverToUse);"
      ]
    },
    {
      "cell_type": "markdown",
      "id": "7db07777-25b5-46c9-9d51-f1d0e3ceb709",
      "metadata": {
        "id": "7db07777-25b5-46c9-9d51-f1d0e3ceb709"
      },
      "source": [
        "You can create a summary like this:"
      ]
    },
    {
      "cell_type": "code",
      "execution_count": null,
      "id": "3a0152d1-cdd5-4426-9ba6-90556a685048",
      "metadata": {
        "id": "3a0152d1-cdd5-4426-9ba6-90556a685048"
      },
      "outputs": [],
      "source": [
        "import pandas as pd\n",
        "\n",
        "Results={\"Model Status\":pp.LpStatus[model.status]}\n",
        "Results.update({\"Optimal Solution\":pp.value(model.objective)})\n",
        "Results.update({v.name: v.varValue for v in model.variables()})\n",
        "Results"
      ]
    },
    {
      "cell_type": "code",
      "execution_count": null,
      "id": "651fadcc-cb30-4caa-98e4-f6215c0be7a9",
      "metadata": {
        "id": "651fadcc-cb30-4caa-98e4-f6215c0be7a9"
      },
      "outputs": [],
      "source": [
        "#or\n",
        "pd.DataFrame.from_dict(Results,orient='index').T.set_index('Model Status').style.format('{:,}')"
      ]
    },
    {
      "cell_type": "markdown",
      "id": "9c025230-ed6e-40b1-ae5c-03bed5c5c0b7",
      "metadata": {
        "id": "9c025230-ed6e-40b1-ae5c-03bed5c5c0b7"
      },
      "source": [
        "<div class=\"alert-success\">\n",
        "\n",
        "<strong>Exercise: The diet problem</strong>"
      ]
    },
    {
      "cell_type": "code",
      "execution_count": null,
      "id": "a7e1cb7a",
      "metadata": {
        "id": "a7e1cb7a"
      },
      "outputs": [],
      "source": [
        "%%html\n",
        "<iframe src=\"https://docs.google.com/presentation/d/e/2PACX-1vTSq9X74urGAB_5n_MIJ9ZGIboKSvBdokVTBXVLh_qqZnmLRTJioOF431Rzys3Qi9UaFwWXjeq6Wmd5/embed?start=false&loop=false&delayms=3000\" frameborder=\"0\" width=\"960\" height=\"569\" allowfullscreen=\"true\" mozallowfullscreen=\"true\" webkitallowfullscreen=\"true\"></iframe>"
      ]
    },
    {
      "cell_type": "markdown",
      "id": "2478f1d7-aa1c-4e6c-b404-d7faf01ab371",
      "metadata": {
        "id": "2478f1d7-aa1c-4e6c-b404-d7faf01ab371"
      },
      "source": [
        "# Part 2: Multicriteria Decision-Making"
      ]
    },
    {
      "cell_type": "code",
      "execution_count": null,
      "id": "4bf5038e-daec-4f81-a2dd-afe31322f7e3",
      "metadata": {
        "id": "4bf5038e-daec-4f81-a2dd-afe31322f7e3"
      },
      "outputs": [],
      "source": [
        "%%html\n",
        "<iframe src=\"https://docs.google.com/presentation/d/e/2PACX-1vR7GL_wF1eKRO0JgEUyIx5cxXUhTQ8ZM4F3AE1MLr7GYG33dwEobrLo6O2MaV2d7Cv47TaTgHghkhrV/embed?start=false&loop=false&delayms=3000\" frameborder=\"0\" width=\"960\" height=\"569\" allowfullscreen=\"true\" mozallowfullscreen=\"true\" webkitallowfullscreen=\"true\"></iframe>"
      ]
    },
    {
      "cell_type": "markdown",
      "id": "5cd22b7e-4d31-4cea-8cf1-81c2956c4395",
      "metadata": {
        "id": "5cd22b7e-4d31-4cea-8cf1-81c2956c4395"
      },
      "source": [
        "The following code requires the folder **ahp**, which you have to download from [here](https://github.com/gprzy/ahp), or from [here](https://github.com/SocialAnalytics-StrategicIntelligence/introOptimization/raw/main/ahp.zip). Make sure the folder with the two **.py** files are in this notebook. You need pandas and numpy previously installed."
      ]
    },
    {
      "cell_type": "code",
      "execution_count": null,
      "id": "5809ff85-e615-4bbb-bcd2-52527b788b5a",
      "metadata": {
        "id": "5809ff85-e615-4bbb-bcd2-52527b788b5a"
      },
      "outputs": [],
      "source": [
        "# calling the function\n",
        "from ahp.ahp import AHP"
      ]
    },
    {
      "cell_type": "markdown",
      "id": "7a2cc6c1-0814-4919-add2-25b566d18cdb",
      "metadata": {
        "id": "7a2cc6c1-0814-4919-add2-25b566d18cdb"
      },
      "source": [
        "I have previously prepared the pairwise comparisons:"
      ]
    },
    {
      "cell_type": "code",
      "execution_count": null,
      "id": "a808bc02-e456-46d7-bab0-ff357ac965c7",
      "metadata": {
        "id": "a808bc02-e456-46d7-bab0-ff357ac965c7"
      },
      "outputs": [],
      "source": [
        "import pandas as pd\n",
        "\n",
        "pairwise_age=pd.read_excel(\"ahp_tables.xlsx\",sheet_name='age', index_col=0)\n",
        "pairwise_experience=pd.read_excel(\"ahp_tables.xlsx\",sheet_name='experience', index_col=0)\n",
        "pairwise_education=pd.read_excel(\"ahp_tables.xlsx\",sheet_name='education', index_col=0)\n",
        "pairwise_charisma=pd.read_excel(\"ahp_tables.xlsx\",sheet_name='charisma', index_col=0)\n",
        "pairwise_criteria=pd.read_excel(\"ahp_tables.xlsx\",sheet_name='criteria', index_col=0)"
      ]
    },
    {
      "cell_type": "markdown",
      "id": "8d954d8f-9a42-4468-987a-f583338a3908",
      "metadata": {
        "id": "8d954d8f-9a42-4468-987a-f583338a3908"
      },
      "source": [
        "Open the *pairwise_criteria* to check the order of columns:"
      ]
    },
    {
      "cell_type": "code",
      "execution_count": null,
      "id": "aafb3e8b-151c-457c-b8e0-4d74c8c6d062",
      "metadata": {
        "id": "aafb3e8b-151c-457c-b8e0-4d74c8c6d062"
      },
      "outputs": [],
      "source": [
        "pairwise_criteria"
      ]
    },
    {
      "cell_type": "markdown",
      "id": "d5b02c89-4d89-4b34-ac6d-879421b6a976",
      "metadata": {
        "id": "d5b02c89-4d89-4b34-ac6d-879421b6a976"
      },
      "source": [
        "Use the same order here:"
      ]
    },
    {
      "cell_type": "code",
      "execution_count": null,
      "id": "ead9dd7f-2dfb-4dd0-8edc-b9ff93f8fcce",
      "metadata": {
        "id": "ead9dd7f-2dfb-4dd0-8edc-b9ff93f8fcce"
      },
      "outputs": [],
      "source": [
        "# follow the same order as the criteria\n",
        "data = [pairwise_experience.values.tolist(),\n",
        "        pairwise_education.values.tolist(),\n",
        "        pairwise_charisma.values.tolist(),\n",
        "        pairwise_age.values.tolist(),\n",
        "        pairwise_criteria.values.tolist()]"
      ]
    },
    {
      "cell_type": "markdown",
      "id": "81e7e73e-4ebc-4958-a4f6-31414c3a0e12",
      "metadata": {
        "id": "81e7e73e-4ebc-4958-a4f6-31414c3a0e12"
      },
      "source": [
        "Time to fit the AHP model:"
      ]
    },
    {
      "cell_type": "code",
      "execution_count": null,
      "id": "ebca576b-58a1-4215-a4ec-068843954724",
      "metadata": {
        "id": "ebca576b-58a1-4215-a4ec-068843954724"
      },
      "outputs": [],
      "source": [
        "ahp = AHP()\n",
        "ahp.fit(data)"
      ]
    },
    {
      "cell_type": "markdown",
      "id": "bba95f32-6e88-4662-a570-8f3bcb67e6ee",
      "metadata": {
        "id": "bba95f32-6e88-4662-a570-8f3bcb67e6ee"
      },
      "source": [
        "You get the solution:"
      ]
    },
    {
      "cell_type": "code",
      "execution_count": null,
      "id": "9ea4b19b-0975-4193-9034-d48fe7028c40",
      "metadata": {
        "id": "9ea4b19b-0975-4193-9034-d48fe7028c40"
      },
      "outputs": [],
      "source": [
        "Solution=pd.DataFrame(index=pairwise_charisma.index)\n",
        "Solution['Score']=ahp.classificate()\n",
        "Solution['Ranking']=Solution.Score.rank(ascending=False)\n",
        "Solution"
      ]
    },
    {
      "cell_type": "markdown",
      "id": "b50bc5f6-7d5d-4a90-bf30-ec0cd2e9aaac",
      "metadata": {
        "id": "b50bc5f6-7d5d-4a90-bf30-ec0cd2e9aaac"
      },
      "source": [
        "<div class=\"alert-success\">\n",
        "\n",
        "<strong>Exercise: Choosing a country for a Master Program</strong>\n",
        "\n",
        "- Join 3 or 4 people from this course (or other friends if needed).\n",
        "- If you have the criteria: cost of living, language difficulty, possibilities to get a job in that country\n",
        "- If you have the alternatives: Brazil, Spain, USA, England, France\n",
        "- Create an AHP model and get the ranking.\n",
        "\n",
        "You can follow this [example](https://en.wikipedia.org/wiki/Analytic_hierarchy_process_%E2%80%93_leader_example).\n",
        "If you have a better idea, you can use it instead."
      ]
    },
    {
      "cell_type": "code",
      "execution_count": null,
      "id": "c6a73683-487e-4304-b465-c3d1c509999f",
      "metadata": {
        "id": "c6a73683-487e-4304-b465-c3d1c509999f"
      },
      "outputs": [],
      "source": []
    }
  ],
  "metadata": {
    "kernelspec": {
      "display_name": "Python 3 (ipykernel)",
      "language": "python",
      "name": "python3"
    },
    "language_info": {
      "codemirror_mode": {
        "name": "ipython",
        "version": 3
      },
      "file_extension": ".py",
      "mimetype": "text/x-python",
      "name": "python",
      "nbconvert_exporter": "python",
      "pygments_lexer": "ipython3",
      "version": "3.11.5"
    },
    "colab": {
      "provenance": []
    }
  },
  "nbformat": 4,
  "nbformat_minor": 5
}